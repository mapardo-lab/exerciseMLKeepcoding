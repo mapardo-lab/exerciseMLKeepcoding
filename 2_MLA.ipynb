{
 "cells": [
  {
   "cell_type": "markdown",
   "id": "fce87407-35f1-4aaa-a743-923f07f88c95",
   "metadata": {},
   "source": [
    "## Machine Learning Analysis"
   ]
  },
  {
   "cell_type": "markdown",
   "id": "c28fed38-1077-4dbb-9d0f-66026224d473",
   "metadata": {},
   "source": [
    "### Environment setup"
   ]
  },
  {
   "cell_type": "code",
   "execution_count": 1,
   "id": "8bcf9f97-6ef0-40b4-9325-021899c5ebaa",
   "metadata": {},
   "outputs": [],
   "source": [
    "! pip install -r requiriments.txt --quiet"
   ]
  },
  {
   "cell_type": "code",
   "execution_count": 2,
   "id": "564e2af1-c8ec-4ab4-b1b8-b36a02e22d33",
   "metadata": {},
   "outputs": [],
   "source": [
    "import math\n",
    "import sys\n",
    "import numpy  as np  \n",
    "import pandas as pd\n",
    "import itertools\n",
    "from sklearn.model_selection import train_test_split\n",
    "from sklearn.neighbors import KNeighborsRegressor\n",
    "from sklearn.model_selection import GridSearchCV\n",
    "from sklearn.linear_model import Ridge\n",
    "from sklearn.ensemble import RandomForestRegressor\n",
    "from sklearn.svm import SVR\n",
    "from sklearn.metrics import mean_squared_error"
   ]
  },
  {
   "cell_type": "code",
   "execution_count": 3,
   "id": "ea200444-7601-49be-a37a-5e272725b4a0",
   "metadata": {},
   "outputs": [],
   "source": [
    "# to load custom libraries\n",
    "LIBRARY_PATH = \".\"\n",
    "sys.path.append(LIBRARY_PATH)\n",
    "\n",
    "# load custom libraries\n",
    "from utilsDataProc import data_proc"
   ]
  },
  {
   "cell_type": "markdown",
   "id": "84d40ac3-c9ac-4223-968e-7b70c5e71c0c",
   "metadata": {},
   "source": [
    "### Load data"
   ]
  },
  {
   "cell_type": "code",
   "execution_count": 4,
   "id": "c218dd8f-8947-4a6c-b0e1-84b9a1fde7bb",
   "metadata": {},
   "outputs": [
    {
     "name": "stdout",
     "output_type": "stream",
     "text": [
      "Number of samples: 14780\n",
      "Number of features: 89\n"
     ]
    }
   ],
   "source": [
    "# load data\n",
    "airbnb_data = pd.read_csv(\"../data/airbnb-listings-extract.csv\", delimiter = ';') # load data\n",
    "print(f'Number of samples: {airbnb_data.shape[0]}\\nNumber of features: {airbnb_data.shape[1]}')"
   ]
  },
  {
   "cell_type": "markdown",
   "id": "db84c1a9-cd0e-4f67-a3ee-d22a5527483a",
   "metadata": {},
   "source": [
    "#### Split data into train and test datasets"
   ]
  },
  {
   "cell_type": "code",
   "execution_count": 5,
   "id": "a35d777f-fa58-459e-ba0d-14a731afbec4",
   "metadata": {},
   "outputs": [
    {
     "name": "stdout",
     "output_type": "stream",
     "text": [
      "Samples in train dataset: 10346\n",
      "Samples in test dataset: 4434\n"
     ]
    }
   ],
   "source": [
    "# split train and test\n",
    "df_train, df_test = train_test_split(airbnb_data, test_size = 0.3, shuffle = True, random_state = 0)\n",
    "print(f'Samples in train dataset: {df_train.shape[0]}')\n",
    "print(f'Samples in test dataset: {df_test.shape[0]}')"
   ]
  },
  {
   "cell_type": "markdown",
   "id": "1c42b3bb-2077-4e6d-927f-6db89abea09f",
   "metadata": {},
   "source": [
    "### Data processing"
   ]
  },
  {
   "cell_type": "code",
   "execution_count": 6,
   "id": "0fe8086f-304a-495c-8e02-3fab760d1cfe",
   "metadata": {},
   "outputs": [
    {
     "name": "stderr",
     "output_type": "stream",
     "text": [
      "/home/mapardo/miniconda3/envs/py310/lib/python3.10/site-packages/sklearn/preprocessing/_label.py:909: UserWarning: unknown class(es) ['bbq grill', 'changing table', 'ev charger', 'fireplace guards'] will be ignored\n",
      "  warnings.warn(\n"
     ]
    }
   ],
   "source": [
    "# process data\n",
    "features = {\n",
    "    'standarizate': ['Beds', 'Guests Included', 'Bathrooms'],\n",
    "    'onehotencode': ['Room Type'],\n",
    "    'targetencode': ['Room Type', 'Country Code'],\n",
    "    'target': 'Price',\n",
    "    'to_drop': ['translation missing: en.hosting_amenity_50', 'translation missing: en.hosting_amenity_49']\n",
    "}\n",
    "X_train, X_test, y_train, y_test = data_proc(df_train, df_test, features)"
   ]
  },
  {
   "cell_type": "markdown",
   "id": "18f55f41-635c-47b3-8259-383152a3b2ac",
   "metadata": {},
   "source": [
    "This warning appears because some amenities present in the training dataset are missing in the test dataset."
   ]
  },
  {
   "cell_type": "markdown",
   "id": "ca8060e7-97f6-4291-a336-0e8bb915d97f",
   "metadata": {},
   "source": [
    "### Train model"
   ]
  },
  {
   "cell_type": "code",
   "execution_count": 7,
   "id": "8584b7e6-0ecf-42e7-a60e-31059fd4eb3d",
   "metadata": {},
   "outputs": [],
   "source": [
    "# features for Room Type One Hot Encoding \n",
    "room_type_ohe = [col for col in X_train.columns if 'Room Type_' in col]\n",
    "\n",
    "# selected features for Amenities\n",
    "amenities_sel = ['dryer', 'indoor fireplace', 'no services', 'air conditioning', 'cable tv', \n",
    "                 'family/kid friendly', 'pool', 'tv', 'free parking on premises', 'hot tub', \n",
    "                 'lock on bedroom door', 'pets live on this property', 'wireless internet', \n",
    "                 'suitable for events', 'cat(s)']\n",
    "\n",
    "# combinations of features to check \n",
    "dataproc = [features['standarizate'],\n",
    "features['standarizate'] + room_type_ohe,\n",
    "features['standarizate'] + room_type_ohe,\n",
    "features['standarizate'] + ['Room Type TE'],\n",
    "features['standarizate'] + room_type_ohe + ['Country Code TE'],\n",
    "features['standarizate'] + ['Room Type TE', 'Country Code TE'],\n",
    "features['standarizate'] + room_type_ohe + ['Country Code TE'] + amenities_sel,\n",
    "features['standarizate'] + ['Room Type TE', 'Country Code TE'] + amenities_sel]"
   ]
  },
  {
   "cell_type": "code",
   "execution_count": null,
   "id": "d456163a-6a01-4bee-ae5e-2cbe8b34d889",
   "metadata": {},
   "outputs": [],
   "source": [
    "# combinations of model to check (algorithm + parameters)\n",
    "experiments = {\n",
    "    'algorithms': [KNeighborsRegressor(), Ridge(), RandomForestRegressor(random_state = 42), SVR()],\n",
    "    'parameters': [{'n_neighbors': [6, 7, 8], 'weights': ['uniform', 'distance']},\n",
    "                    {'alpha': [0.2, 0.4, 0.6]},\n",
    "                    {'n_estimators': [50, 100], 'max_depth': [5, 10, 15]},\n",
    "                    {'kernel': ['linear', 'rbf']}\n",
    "                  ]\n",
    "}\n",
    "\n",
    "# run experiments: features + algorithm + parameters\n",
    "results = []\n",
    "for dp in dataproc:\n",
    "    X_train_sel = X_train[dp]    \n",
    "    for index, algorithm in enumerate(experiments['algorithms']):\n",
    "        params = experiments['parameters'][index]\n",
    "        grid = GridSearchCV(algorithm, param_grid = params, cv = 5, \n",
    "                            scoring= 'neg_mean_squared_error', return_train_score = True)\n",
    "        grid.fit(X_train_sel, y_train)\n",
    "\n",
    "        lst = list(grid.get_params()['param_grid'].values())\n",
    "        for params, mse in zip(itertools.product(*lst),-grid.cv_results_['mean_test_score']):\n",
    "            params_dict = {param: value for param, value in zip(grid.get_params()['param_grid'].keys(), params)}\n",
    "            result = {'features': dp, 'algorithm': algorithm, 'parameters': params_dict,\n",
    "                  'mse_val': mse}\n",
    "            results.append(result)\n",
    "\n",
    "# TODO show mean_train_score, mean_fit_time (grid.cv_results_)"
   ]
  },
  {
   "cell_type": "code",
   "execution_count": null,
   "id": "a27819b5-2a2f-4d4c-869a-3e07a75a0049",
   "metadata": {},
   "outputs": [],
   "source": [
    "best_model = pd.DataFrame(results).sort_values('mse_val').iloc[0,:].to_dict()\n",
    "for key, value in best_model.items():\n",
    "    print(f'{key}: {value}')"
   ]
  },
  {
   "cell_type": "markdown",
   "id": "cbc52c83-ae8c-46b2-96a3-3d29f6319174",
   "metadata": {},
   "source": [
    "### Train/Test best model"
   ]
  },
  {
   "cell_type": "code",
   "execution_count": null,
   "id": "f3dc35a6-9d43-4531-a774-3fa1ff2e6d33",
   "metadata": {},
   "outputs": [],
   "source": [
    "model = RandomForestRegressor(random_state = 42, n_estimators = 100, max_depth = 5)\n",
    "X_train_sel = X_train[best_model['features']]\n",
    "model.fit(X_train_sel, y_train)\n",
    "y_train_predict = model.predict(X_train_sel)\n",
    "train_mse = mean_squared_error(y_train, y_train_predict)\n",
    "print(f'MSE train: {train_mse}')\n",
    "\n",
    "X_test_sel = X_test[best_model['features']]\n",
    "y_test_predict = model.predict(X_test_sel)\n",
    "\n",
    "test_mse = mean_squared_error(y_test, y_test_predict)\n",
    "test_rmse = math.sqrt(test_mse)\n",
    "test_r2 = model.score(X_test_sel, y_test)\n",
    "print(f'\\nMSE test: {test_mse}')\n",
    "print(f'RMSE test: {test_rmse}')\n",
    "print(f'R2 test: {test_r2}')"
   ]
  },
  {
   "cell_type": "markdown",
   "id": "57c68189-3a8a-48d0-ba7a-2d4cec3074b5",
   "metadata": {},
   "source": [
    "The best-performing model uses all available features, with improved results when applying target encoding to the 'Room Type' and 'Country Code' features. The top-performing algorithm is a RandomForestRegressor configured with 100 estimators and a maximum depth of 5. The MSE (Mean Squared Error) values are similar for both the train and test datasets, indicating no signs of overfitting."
   ]
  }
 ],
 "metadata": {
  "kernelspec": {
   "display_name": "Python 3 (ipykernel)",
   "language": "python",
   "name": "python3"
  },
  "language_info": {
   "codemirror_mode": {
    "name": "ipython",
    "version": 3
   },
   "file_extension": ".py",
   "mimetype": "text/x-python",
   "name": "python",
   "nbconvert_exporter": "python",
   "pygments_lexer": "ipython3",
   "version": "3.10.18"
  }
 },
 "nbformat": 4,
 "nbformat_minor": 5
}
